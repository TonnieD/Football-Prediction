{
 "cells": [
  {
   "cell_type": "code",
   "execution_count": 1,
   "id": "0b57929e",
   "metadata": {},
   "outputs": [
    {
     "name": "stdout",
     "output_type": "stream",
     "text": [
      "this project is going to by my 1st step in my amaizing career in Data science\n"
     ]
    }
   ],
   "source": [
    "x = \"this project is going to by my 1st step in my amaizing career in Data science\"\n",
    "print(x)"
   ]
  }
 ],
 "metadata": {
  "kernelspec": {
   "display_name": "Python (footy-pred)",
   "language": "python",
   "name": "footy-pred"
  },
  "language_info": {
   "codemirror_mode": {
    "name": "ipython",
    "version": 3
   },
   "file_extension": ".py",
   "mimetype": "text/x-python",
   "name": "python",
   "nbconvert_exporter": "python",
   "pygments_lexer": "ipython3",
   "version": "3.11.13"
  }
 },
 "nbformat": 4,
 "nbformat_minor": 5
}
