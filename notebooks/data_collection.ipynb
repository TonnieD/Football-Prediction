{
 "cells": [
  {
   "cell_type": "code",
   "execution_count": 5,
   "id": "c1fe902d",
   "metadata": {},
   "outputs": [],
   "source": [
    "import json\n",
    "\n",
    "from selenium import webdriver\n",
    "from selenium.webdriver.chrome.service import Service as ChromeService\n",
    "from selenium.webdriver.chrome.options import Options\n",
    "from webdriver_manager.chrome import ChromeDriverManager\n"
   ]
  },
  {
   "cell_type": "code",
   "execution_count": 6,
   "id": "0d6507e5",
   "metadata": {},
   "outputs": [],
   "source": [
    "options = Options()\n",
    "options.add_argument(\"--headless=new\")\n",
    "options.set_capability(\"goog:loggingPrefs\", {\"performance\": \"ALL\", \"browser\": \"ALL\"})\n",
    "\n",
    "driver = webdriver.Chrome(service=ChromeService(ChromeDriverManager().install()), options=options)\n"
   ]
  },
  {
   "cell_type": "code",
   "execution_count": 9,
   "id": "f1b33956",
   "metadata": {},
   "outputs": [
    {
     "ename": "TimeoutException",
     "evalue": "Message: timeout: Timed out receiving message from renderer: 6.017\n  (Session info: chrome=140.0.7339.81)\nStacktrace:\n\tGetHandleVerifier [0x0xafd283+66419]\n\tGetHandleVerifier [0x0xafd2c4+66484]\n\t(No symbol) [0x0x8d4bd3]\n\t(No symbol) [0x0x8c5404]\n\t(No symbol) [0x0x8c513a]\n\t(No symbol) [0x0x8c3040]\n\t(No symbol) [0x0x8c3b27]\n\t(No symbol) [0x0x8d074e]\n\t(No symbol) [0x0x8e20f5]\n\t(No symbol) [0x0x8e7c96]\n\t(No symbol) [0x0x8c41a6]\n\t(No symbol) [0x0x8e1eaa]\n\t(No symbol) [0x0x962bd9]\n\t(No symbol) [0x0x940e16]\n\t(No symbol) [0x0x9125ce]\n\t(No symbol) [0x0x9134a4]\n\tGetHandleVerifier [0x0xd45ec3+2461619]\n\tGetHandleVerifier [0x0xd40f46+2441270]\n\tGetHandleVerifier [0x0xb26222+234258]\n\tGetHandleVerifier [0x0xb161e8+168664]\n\tGetHandleVerifier [0x0xb1d18d+197245]\n\tGetHandleVerifier [0x0xb055d8+100040]\n\tGetHandleVerifier [0x0xb05772+100450]\n\tGetHandleVerifier [0x0xaef72a+10266]\n\tBaseThreadInitThunk [0x0x770bfcc9+25]\n\tRtlGetAppContainerNamedObjectPath [0x0x774382ae+286]\n\tRtlGetAppContainerNamedObjectPath [0x0x7743827e+238]\n",
     "output_type": "error",
     "traceback": [
      "\u001b[31m---------------------------------------------------------------------------\u001b[39m",
      "\u001b[31mTimeoutException\u001b[39m                          Traceback (most recent call last)",
      "\u001b[36mCell\u001b[39m\u001b[36m \u001b[39m\u001b[32mIn[9]\u001b[39m\u001b[32m, line 2\u001b[39m\n\u001b[32m      1\u001b[39m url = \u001b[33m\"\u001b[39m\u001b[33mhttps://www.sofascore.com/api/v1/sport/football/scheduled-events/2025-09-05\u001b[39m\u001b[33m\"\u001b[39m\n\u001b[32m----> \u001b[39m\u001b[32m2\u001b[39m \u001b[43mdriver\u001b[49m\u001b[43m.\u001b[49m\u001b[43mget\u001b[49m\u001b[43m(\u001b[49m\u001b[43murl\u001b[49m\u001b[43m)\u001b[49m\n\u001b[32m      4\u001b[39m \u001b[38;5;66;03m# The response is inside <pre> tag (since it's JSON)\u001b[39;00m\n\u001b[32m      5\u001b[39m raw_json = driver.find_element(\u001b[33m\"\u001b[39m\u001b[33mtag name\u001b[39m\u001b[33m\"\u001b[39m, \u001b[33m\"\u001b[39m\u001b[33mpre\u001b[39m\u001b[33m\"\u001b[39m).text  \n",
      "\u001b[36mFile \u001b[39m\u001b[32mc:\\Users\\ANTHONY\\anaconda3\\envs\\footy_pred\\Lib\\site-packages\\selenium\\webdriver\\remote\\webdriver.py:483\u001b[39m, in \u001b[36mWebDriver.get\u001b[39m\u001b[34m(self, url)\u001b[39m\n\u001b[32m    465\u001b[39m \u001b[38;5;28;01mdef\u001b[39;00m\u001b[38;5;250m \u001b[39m\u001b[34mget\u001b[39m(\u001b[38;5;28mself\u001b[39m, url: \u001b[38;5;28mstr\u001b[39m) -> \u001b[38;5;28;01mNone\u001b[39;00m:\n\u001b[32m    466\u001b[39m \u001b[38;5;250m    \u001b[39m\u001b[33;03m\"\"\"Navigate the browser to the specified URL in the current window or\u001b[39;00m\n\u001b[32m    467\u001b[39m \u001b[33;03m    tab.\u001b[39;00m\n\u001b[32m    468\u001b[39m \n\u001b[32m   (...)\u001b[39m\u001b[32m    481\u001b[39m \u001b[33;03m    >>> driver.get(\"https://example.com\")\u001b[39;00m\n\u001b[32m    482\u001b[39m \u001b[33;03m    \"\"\"\u001b[39;00m\n\u001b[32m--> \u001b[39m\u001b[32m483\u001b[39m     \u001b[38;5;28;43mself\u001b[39;49m\u001b[43m.\u001b[49m\u001b[43mexecute\u001b[49m\u001b[43m(\u001b[49m\u001b[43mCommand\u001b[49m\u001b[43m.\u001b[49m\u001b[43mGET\u001b[49m\u001b[43m,\u001b[49m\u001b[43m \u001b[49m\u001b[43m{\u001b[49m\u001b[33;43m\"\u001b[39;49m\u001b[33;43murl\u001b[39;49m\u001b[33;43m\"\u001b[39;49m\u001b[43m:\u001b[49m\u001b[43m \u001b[49m\u001b[43murl\u001b[49m\u001b[43m}\u001b[49m\u001b[43m)\u001b[49m\n",
      "\u001b[36mFile \u001b[39m\u001b[32mc:\\Users\\ANTHONY\\anaconda3\\envs\\footy_pred\\Lib\\site-packages\\selenium\\webdriver\\remote\\webdriver.py:458\u001b[39m, in \u001b[36mWebDriver.execute\u001b[39m\u001b[34m(self, driver_command, params)\u001b[39m\n\u001b[32m    455\u001b[39m response = cast(RemoteConnection, \u001b[38;5;28mself\u001b[39m.command_executor).execute(driver_command, params)\n\u001b[32m    457\u001b[39m \u001b[38;5;28;01mif\u001b[39;00m response:\n\u001b[32m--> \u001b[39m\u001b[32m458\u001b[39m     \u001b[38;5;28;43mself\u001b[39;49m\u001b[43m.\u001b[49m\u001b[43merror_handler\u001b[49m\u001b[43m.\u001b[49m\u001b[43mcheck_response\u001b[49m\u001b[43m(\u001b[49m\u001b[43mresponse\u001b[49m\u001b[43m)\u001b[49m\n\u001b[32m    459\u001b[39m     response[\u001b[33m\"\u001b[39m\u001b[33mvalue\u001b[39m\u001b[33m\"\u001b[39m] = \u001b[38;5;28mself\u001b[39m._unwrap_value(response.get(\u001b[33m\"\u001b[39m\u001b[33mvalue\u001b[39m\u001b[33m\"\u001b[39m, \u001b[38;5;28;01mNone\u001b[39;00m))\n\u001b[32m    460\u001b[39m     \u001b[38;5;28;01mreturn\u001b[39;00m response\n",
      "\u001b[36mFile \u001b[39m\u001b[32mc:\\Users\\ANTHONY\\anaconda3\\envs\\footy_pred\\Lib\\site-packages\\selenium\\webdriver\\remote\\errorhandler.py:232\u001b[39m, in \u001b[36mErrorHandler.check_response\u001b[39m\u001b[34m(self, response)\u001b[39m\n\u001b[32m    230\u001b[39m         alert_text = value[\u001b[33m\"\u001b[39m\u001b[33malert\u001b[39m\u001b[33m\"\u001b[39m].get(\u001b[33m\"\u001b[39m\u001b[33mtext\u001b[39m\u001b[33m\"\u001b[39m)\n\u001b[32m    231\u001b[39m     \u001b[38;5;28;01mraise\u001b[39;00m exception_class(message, screen, stacktrace, alert_text)  \u001b[38;5;66;03m# type: ignore[call-arg]  # mypy is not smart enough here\u001b[39;00m\n\u001b[32m--> \u001b[39m\u001b[32m232\u001b[39m \u001b[38;5;28;01mraise\u001b[39;00m exception_class(message, screen, stacktrace)\n",
      "\u001b[31mTimeoutException\u001b[39m: Message: timeout: Timed out receiving message from renderer: 6.017\n  (Session info: chrome=140.0.7339.81)\nStacktrace:\n\tGetHandleVerifier [0x0xafd283+66419]\n\tGetHandleVerifier [0x0xafd2c4+66484]\n\t(No symbol) [0x0x8d4bd3]\n\t(No symbol) [0x0x8c5404]\n\t(No symbol) [0x0x8c513a]\n\t(No symbol) [0x0x8c3040]\n\t(No symbol) [0x0x8c3b27]\n\t(No symbol) [0x0x8d074e]\n\t(No symbol) [0x0x8e20f5]\n\t(No symbol) [0x0x8e7c96]\n\t(No symbol) [0x0x8c41a6]\n\t(No symbol) [0x0x8e1eaa]\n\t(No symbol) [0x0x962bd9]\n\t(No symbol) [0x0x940e16]\n\t(No symbol) [0x0x9125ce]\n\t(No symbol) [0x0x9134a4]\n\tGetHandleVerifier [0x0xd45ec3+2461619]\n\tGetHandleVerifier [0x0xd40f46+2441270]\n\tGetHandleVerifier [0x0xb26222+234258]\n\tGetHandleVerifier [0x0xb161e8+168664]\n\tGetHandleVerifier [0x0xb1d18d+197245]\n\tGetHandleVerifier [0x0xb055d8+100040]\n\tGetHandleVerifier [0x0xb05772+100450]\n\tGetHandleVerifier [0x0xaef72a+10266]\n\tBaseThreadInitThunk [0x0x770bfcc9+25]\n\tRtlGetAppContainerNamedObjectPath [0x0x774382ae+286]\n\tRtlGetAppContainerNamedObjectPath [0x0x7743827e+238]\n"
     ]
    }
   ],
   "source": [
    "url = \"https://www.sofascore.com/api/v1/sport/football/scheduled-events/2025-09-05\"\n",
    "driver.get(url)\n",
    "\n",
    "# The response is inside <pre> tag (since it's JSON)\n",
    "raw_json = driver.find_element(\"tag name\", \"pre\").text  \n",
    "\n",
    "# Convert string to Python dict\n",
    "data = json.loads(raw_json)\n",
    "\n",
    "print(json.dumps(data, indent=2))  # pretty print\n",
    "driver.quit()"
   ]
  }
 ],
 "metadata": {
  "kernelspec": {
   "display_name": "Python (footy-pred)",
   "language": "python",
   "name": "footy-pred"
  },
  "language_info": {
   "codemirror_mode": {
    "name": "ipython",
    "version": 3
   },
   "file_extension": ".py",
   "mimetype": "text/x-python",
   "name": "python",
   "nbconvert_exporter": "python",
   "pygments_lexer": "ipython3",
   "version": "3.11.13"
  }
 },
 "nbformat": 4,
 "nbformat_minor": 5
}
