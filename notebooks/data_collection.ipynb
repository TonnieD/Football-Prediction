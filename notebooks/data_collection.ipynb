{
 "cells": [],
 "metadata": {
  "kernelspec": {
   "display_name": "Python (footy-pred)",
   "language": "python",
   "name": "footy-pred"
  },
  "language_info": {
   "name": "python",
   "version": "3.11.13"
  }
 },
 "nbformat": 4,
 "nbformat_minor": 5
}
